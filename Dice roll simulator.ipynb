{
 "cells": [
  {
   "cell_type": "code",
   "execution_count": null,
   "metadata": {},
   "outputs": [],
   "source": [
    "#Hello :)\n",
    "# The main purpose of this small game is to create a program that randomly select a number in a range then the user has to guess the number. \n",
    "# The User has three chances to guess the number if what he chose is correct then a message will print saying “you guessed right “\n",
    "# otherwise a negative message prints saying “you were wrong“"
   ]
  },
  {
   "cell_type": "code",
   "execution_count": 1,
   "metadata": {},
   "outputs": [],
   "source": [
    "import random"
   ]
  }
 ],
 "metadata": {
  "kernelspec": {
   "display_name": "test",
   "language": "python",
   "name": "python3"
  },
  "language_info": {
   "codemirror_mode": {
    "name": "ipython",
    "version": 3
   },
   "file_extension": ".py",
   "mimetype": "text/x-python",
   "name": "python",
   "nbconvert_exporter": "python",
   "pygments_lexer": "ipython3",
   "version": "3.9.10"
  },
  "orig_nbformat": 4,
  "vscode": {
   "interpreter": {
    "hash": "f5283efd964521479c1e2675867ad3fd27fa7e3df3e3049d84d50d2b95e92885"
   }
  }
 },
 "nbformat": 4,
 "nbformat_minor": 2
}
